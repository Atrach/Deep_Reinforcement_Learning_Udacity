{
 "cells": [
  {
   "cell_type": "markdown",
   "metadata": {},
   "source": [
    "# Collaboration and Competition\n",
    "\n",
    "---\n",
    "\n",
    "In this notebook, you will learn how to use the Unity ML-Agents environment for the third project of the [Deep Reinforcement Learning Nanodegree](https://www.udacity.com/course/deep-reinforcement-learning-nanodegree--nd893) program.\n",
    "\n",
    "### 1. Start the Environment\n",
    "\n",
    "We begin by importing the necessary packages.  If the code cell below returns an error, please revisit the project instructions to double-check that you have installed [Unity ML-Agents](https://github.com/Unity-Technologies/ml-agents/blob/master/docs/Installation.md) and [NumPy](http://www.numpy.org/)."
   ]
  },
  {
   "cell_type": "code",
   "execution_count": 1,
   "metadata": {},
   "outputs": [],
   "source": [
    "# if working in workspace use \"active_sesssion\"\n",
    "'''\n",
    "!pip -q install ./python\n",
    "import workspace_utils\n",
    "from workspace_utils import active_session\n",
    "'''\n",
    "\n",
    "from unityagents import UnityEnvironment\n",
    "import numpy as np\n",
    "import torch\n",
    "from collections import deque\n",
    "import matplotlib.pyplot as plt\n",
    "%matplotlib inline"
   ]
  },
  {
   "cell_type": "markdown",
   "metadata": {},
   "source": [
    "Next, we will start the environment!  **_Before running the code cell below_**, change the `file_name` parameter to match the location of the Unity environment that you downloaded.\n",
    "\n",
    "- **Mac**: `\"path/to/Tennis.app\"`\n",
    "- **Windows** (x86): `\"path/to/Tennis_Windows_x86/Tennis.exe\"`\n",
    "- **Windows** (x86_64): `\"path/to/Tennis_Windows_x86_64/Tennis.exe\"`\n",
    "- **Linux** (x86): `\"path/to/Tennis_Linux/Tennis.x86\"`\n",
    "- **Linux** (x86_64): `\"path/to/Tennis_Linux/Tennis.x86_64\"`\n",
    "- **Linux** (x86, headless): `\"path/to/Tennis_Linux_NoVis/Tennis.x86\"`\n",
    "- **Linux** (x86_64, headless): `\"path/to/Tennis_Linux_NoVis/Tennis.x86_64\"`\n",
    "\n",
    "For instance, if you are using a Mac, then you downloaded `Tennis.app`.  If this file is in the same folder as the notebook, then the line below should appear as follows:\n",
    "```\n",
    "env = UnityEnvironment(file_name=\"Tennis.app\")\n",
    "```"
   ]
  },
  {
   "cell_type": "code",
   "execution_count": 2,
   "metadata": {},
   "outputs": [
    {
     "name": "stderr",
     "output_type": "stream",
     "text": [
      "INFO:unityagents:\n",
      "'Academy' started successfully!\n",
      "Unity Academy name: Academy\n",
      "        Number of Brains: 1\n",
      "        Number of External Brains : 1\n",
      "        Lesson number : 0\n",
      "        Reset Parameters :\n",
      "\t\t\n",
      "Unity brain name: TennisBrain\n",
      "        Number of Visual Observations (per agent): 0\n",
      "        Vector Observation space type: continuous\n",
      "        Vector Observation space size (per agent): 8\n",
      "        Number of stacked Vector Observation: 3\n",
      "        Vector Action space type: continuous\n",
      "        Vector Action space size (per agent): 2\n",
      "        Vector Action descriptions: , \n"
     ]
    }
   ],
   "source": [
    "env = UnityEnvironment(file_name=\"Tennis_Windows_x86_64/Tennis.exe\")"
   ]
  },
  {
   "cell_type": "code",
   "execution_count": null,
   "metadata": {},
   "outputs": [],
   "source": [
    "# When working in the workspace\n",
    "env = UnityEnvironment(file_name=\"/data/Tennis_Linux_NoVis/Tennis.x86_64.exe\")"
   ]
  },
  {
   "cell_type": "markdown",
   "metadata": {},
   "source": [
    "Environments contain **_brains_** which are responsible for deciding the actions of their associated agents. Here we check for the first brain available, and set it as the default brain we will be controlling from Python."
   ]
  },
  {
   "cell_type": "code",
   "execution_count": 3,
   "metadata": {},
   "outputs": [],
   "source": [
    "# get the default brain\n",
    "brain_name = env.brain_names[0]\n",
    "brain = env.brains[brain_name]"
   ]
  },
  {
   "cell_type": "markdown",
   "metadata": {},
   "source": [
    "### 2. Examine the State and Action Spaces\n",
    "\n",
    "In this environment, two agents control rackets to bounce a ball over a net. If an agent hits the ball over the net, it receives a reward of +0.1.  If an agent lets a ball hit the ground or hits the ball out of bounds, it receives a reward of -0.01.  Thus, the goal of each agent is to keep the ball in play.\n",
    "\n",
    "The observation space consists of 8 variables corresponding to the position and velocity of the ball and racket. Two continuous actions are available, corresponding to movement toward (or away from) the net, and jumping. \n",
    "\n",
    "Run the code cell below to print some information about the environment."
   ]
  },
  {
   "cell_type": "code",
   "execution_count": 4,
   "metadata": {},
   "outputs": [
    {
     "name": "stdout",
     "output_type": "stream",
     "text": [
      "Number of agents: 2\n",
      "Size of each action: 2\n",
      "There are 2 agents. Each observes a state with length: 24\n",
      "The state for the first agent looks like: [ 0.          0.          0.          0.          0.          0.\n",
      "  0.          0.          0.          0.          0.          0.\n",
      "  0.          0.          0.          0.         -6.65278625 -1.5\n",
      " -0.          0.          6.83172083  6.         -0.          0.        ]\n"
     ]
    }
   ],
   "source": [
    "# reset the environment\n",
    "env_info = env.reset(train_mode=True)[brain_name]\n",
    "\n",
    "# number of agents \n",
    "num_agents = len(env_info.agents)\n",
    "print('Number of agents:', num_agents)\n",
    "\n",
    "# size of each action\n",
    "action_size = brain.vector_action_space_size\n",
    "print('Size of each action:', action_size)\n",
    "\n",
    "# examine the state space \n",
    "states = env_info.vector_observations\n",
    "state_size = states.shape[1]\n",
    "print('There are {} agents. Each observes a state with length: {}'.format(states.shape[0], state_size))\n",
    "print('The state for the first agent looks like:', states[0])"
   ]
  },
  {
   "cell_type": "markdown",
   "metadata": {},
   "source": [
    "### 3. Take Random Actions in the Environment\n",
    "\n",
    "In the next code cell, you will learn how to use the Python API to control the agents and receive feedback from the environment.\n",
    "\n",
    "Once this cell is executed, you will watch the agents' performance, if they select actions at random with each time step.  A window should pop up that allows you to observe the agents.\n",
    "\n",
    "Of course, as part of the project, you'll have to change the code so that the agents are able to use their experiences to gradually choose better actions when interacting with the environment!"
   ]
  },
  {
   "cell_type": "code",
   "execution_count": 5,
   "metadata": {},
   "outputs": [
    {
     "name": "stdout",
     "output_type": "stream",
     "text": [
      "Score (max over agents) from episode 1: 0.0\n",
      "Score (max over agents) from episode 2: 0.0\n",
      "Score (max over agents) from episode 3: 0.0\n",
      "Score (max over agents) from episode 4: 0.0\n",
      "Score (max over agents) from episode 5: 0.0\n"
     ]
    }
   ],
   "source": [
    "for i in range(1, 6):                                      # play game for 5 episodes\n",
    "    env_info = env.reset(train_mode=False)[brain_name]     # reset the environment    \n",
    "    states = env_info.vector_observations                  # get the current state (for each agent)\n",
    "    scores = np.zeros(num_agents)                          # initialize the score (for each agent)\n",
    "    while True:\n",
    "        actions = np.random.randn(num_agents, action_size) # select an action (for each agent)\n",
    "        actions = np.clip(actions, -1, 1)                  # all actions between -1 and 1\n",
    "        env_info = env.step(actions)[brain_name]           # send all actions to tne environment\n",
    "        next_states = env_info.vector_observations         # get next state (for each agent)\n",
    "        rewards = env_info.rewards                         # get reward (for each agent)\n",
    "        dones = env_info.local_done                        # see if episode finished\n",
    "        scores += env_info.rewards                         # update the score (for each agent)\n",
    "        states = next_states                               # roll over states to next time step\n",
    "        if np.any(dones):                                  # exit loop if episode finished\n",
    "            break\n",
    "    print('Score (max over agents) from episode {}: {}'.format(i, np.max(scores)))"
   ]
  },
  {
   "cell_type": "markdown",
   "metadata": {},
   "source": [
    "When finished, you can close the environment."
   ]
  },
  {
   "cell_type": "code",
   "execution_count": 7,
   "metadata": {},
   "outputs": [],
   "source": [
    "env.close()"
   ]
  },
  {
   "cell_type": "markdown",
   "metadata": {},
   "source": [
    "### 4. It's Your Turn!\n",
    "\n",
    "Now it's your turn to train your own agent to solve the environment!  When training the environment, set `train_mode=True`, so that the line for resetting the environment looks like the following:\n",
    "```python\n",
    "env_info = env.reset(train_mode=True)[brain_name]\n",
    "```"
   ]
  },
  {
   "cell_type": "code",
   "execution_count": 5,
   "metadata": {},
   "outputs": [],
   "source": [
    "from MADDPG.maddpg_agent import MADDPG\n",
    "agent1 = MADDPG(state_size=state_size, action_size=action_size, n_agents=1,random_seed=1)\n",
    "agent2 = MADDPG(state_size=state_size, action_size=action_size, n_agents=1,random_seed=1)"
   ]
  },
  {
   "cell_type": "code",
   "execution_count": 6,
   "metadata": {},
   "outputs": [],
   "source": [
    "def train(algorithm, path , solution, n_episodes): #\n",
    "    \"\"\"\n",
    "    Parameters:\n",
    "        n_episodes (int): maximum number of training episodes\n",
    "        max_t (int): maximum number of timesteps per episode\n",
    "    Other function parameters:\n",
    "        algorithm (str): name of the type of DQN used \n",
    "        path (str): location where to save the trained parameters of the network\n",
    "        solution (str): it will complement the name of the file that holds the trained parameters so we can have\n",
    "        solution1, solution2....solutionN\n",
    "    \"\"\"\n",
    "    \n",
    "    print('Initializing ' + algorithm + ' train...')\n",
    "    \n",
    "    scores = []                        # list containing scores from each episode\n",
    "    average_scores = []                # list containing the average scores every 100 episodes\n",
    "    max_score = 0\n",
    "    enviroment_solved = 0\n",
    "    scores_window = deque(maxlen=100)  # last 100 scores\n",
    "    \n",
    "    for i_episode in range(1, n_episodes+1):\n",
    "        env_info = env.reset(train_mode=True)[brain_name]   # reset the environment\n",
    "        states = env_info.vector_observations               # get the current state\n",
    "        agent1.reset()\n",
    "        agent2.reset()\n",
    "        episode_scores = np.zeros(num_agents)               # scores for each agent \n",
    "        \n",
    "        while True:\n",
    "            actions1 = agent1.act(states[0])                 # select an action\n",
    "            actions2 = agent2.act(states[1])                 # select an action\n",
    "            actions = np.array([actions1[0], actions2[0]])\n",
    "            #actions = np.concatenate((actions1, actions2), axis=0).flatten()\n",
    "            \n",
    "            env_info = env.step(actions)[brain_name]   # send the action to the environment\n",
    "            next_states = env_info.vector_observations   # get the next state\n",
    "            rewards = env_info.rewards                   # get the reward\n",
    "            dones = env_info.local_done                    # see if episode has finished\n",
    "            \n",
    "            agent1.step(states[0], actions1, rewards[0], next_states[0], dones[0])\n",
    "            agent2.step(states[1], actions2, rewards[1], next_states[1], dones[1])\n",
    "            \n",
    "            states = next_states\n",
    "            episode_scores += np.array(rewards)\n",
    "            \n",
    "            if np.any(dones):\n",
    "                break \n",
    "                \n",
    "        score = np.max(episode_scores)         # Summary of scores for this episode        \n",
    "        scores_window.append(score)             # save most recent score\n",
    "        scores.append(score)                    # save most recent score\n",
    "        \n",
    "        print('\\rEpisode {}\\t'.format(i_episode) + algorithm +' Average Score: {:.2f}'.format(np.mean(scores_window)), end=\"\")\n",
    "        average_scores.append(np.mean(scores_window))              # save the average score\n",
    "        if i_episode % 100 == 0:\n",
    "            print('\\rEpisode {}\\t'.format(i_episode) + algorithm +' Average Score: {:.2f}'.format(np.mean(scores_window)))\n",
    "        if np.mean(scores_window)>=0.5 and enviroment_solved == 0:\n",
    "            print('\\nEnvironment solved in {:d} episodes!\\t'.format(i_episode) + algorithm +' Average Score: {:.2f}'.format(np.mean(scores_window)))\n",
    "            enviroment_solved = 1\n",
    "        if i_episode % 100 == 0 and np.mean(scores_window)>= max_score:\n",
    "            print('Model saved at this point')\n",
    "            torch.save(agent1.actor_local.state_dict(), path + algorithm + '_' + solution + '_checkpoint_actor1.pth')\n",
    "            torch.save(agent1.critic_local.state_dict(), path + algorithm + '_' + solution + '_checkpoint_critic1.pth')\n",
    "            torch.save(agent2.actor_local.state_dict(), path + algorithm + '_' + solution + '_checkpoint_actor2.pth')\n",
    "            torch.save(agent2.critic_local.state_dict(), path + algorithm + '_' + solution + '_checkpoint_critic2.pth')\n",
    "            max_score = np.mean(scores_window)\n",
    "        if i_episode==n_episodes: \n",
    "            break\n",
    "               \n",
    "    # Saving the scores   \n",
    "    with open(path + algorithm + '_' + solution +'_scores.txt','w') as file:\n",
    "        for score, average in zip(scores, average_scores):\n",
    "            file.write(('%2f\\t, %2f\\n') % (score, average))\n",
    "    file.close()\n",
    "    \n",
    "    print(algorithm +' done.!')\n",
    "    return scores, average_scores"
   ]
  },
  {
   "cell_type": "code",
   "execution_count": 7,
   "metadata": {},
   "outputs": [
    {
     "name": "stdout",
     "output_type": "stream",
     "text": [
      "Initializing MADDPG train...\n",
      "Episode 100\tMADDPG Average Score: 0.00\n",
      "Episode 200\tMADDPG Average Score: 0.00\n",
      "Episode 300\tMADDPG Average Score: 0.03\n",
      "Episode 400\tMADDPG Average Score: 0.08\n",
      "Episode 500\tMADDPG Average Score: 0.08\n",
      "Episode 600\tMADDPG Average Score: 0.12\n",
      "Episode 678\tMADDPG Average Score: 0.50\n",
      "Environment solved in 678 episodes!\tMADDPG Average Score: 0.50\n",
      "Episode 700\tMADDPG Average Score: 0.65\n",
      "Episode 800\tMADDPG Average Score: 0.91\n",
      "Episode 900\tMADDPG Average Score: 1.40\n",
      "Episode 1000\tMADDPG Average Score: 1.03\n",
      "MADDPG done.!\n"
     ]
    }
   ],
   "source": [
    "N = 1000     # number of episodes\n",
    "algorithm = 'MADDPG'\n",
    "solution = 'SOLUTION_1'\n",
    "path = 'MADDPG/' # where to save the scores\n",
    "with active_session():\n",
    "    scores, average_scores = train(algorithm, path, solution, N)"
   ]
  },
  {
   "cell_type": "code",
   "execution_count": 1,
   "metadata": {},
   "outputs": [],
   "source": [
    "# This functions get the scores\n",
    "def get_scores(algorithm, path, solution):\n",
    "    score = []\n",
    "    average = []\n",
    "    with open(path + algorithm + '_' + solution +'_scores.txt') as file:\n",
    "        for line in file:\n",
    "            score.append(float(line.split()[0]))\n",
    "            average.append(float(line.split()[2]))\n",
    "    file.close()\n",
    "    return score, average"
   ]
  },
  {
   "cell_type": "code",
   "execution_count": 3,
   "metadata": {},
   "outputs": [],
   "source": [
    "# To get all the scores from a .txt file. 'no need to train again if notebook is reloaded'\n",
    "algorithm = 'MADDPG'\n",
    "solution = 'SOLUTION_1'\n",
    "path = 'MADDPG/' # where to save the scores\n",
    "scores, average_scores = get_scores(algorithm, path, solution)"
   ]
  },
  {
   "cell_type": "code",
   "execution_count": 4,
   "metadata": {},
   "outputs": [
    {
     "data": {
      "image/png": "[encoded data removed]",
      "text/plain": [
       "<matplotlib.figure.Figure at 0x7f731c04dda0>"
      ]
     },
     "metadata": {
      "needs_background": "light"
     },
     "output_type": "display_data"
    }
   ],
   "source": [
    "# plot the scores\n",
    "fig = plt.figure(figsize=(8,10))\n",
    "font = {'size'   : 14}\n",
    "plt.rc('font', **font)\n",
    "plt.rc('legend', fontsize=12)    # legend fontsize\n",
    "plt.rc('xtick', labelsize=12) \n",
    "plt.rc('ytick', labelsize=12) \n",
    "ax1 = fig.add_subplot(211)\n",
    "plt.plot(np.arange(len(scores)), scores, linewidth=3)\n",
    "plt.plot(np.arange(len(average_scores)), average_scores, linewidth=3)\n",
    "ax1.legend(['Score', 'Moving Average Score'])  #,loc=4\n",
    "ax1.grid(linestyle='-', linewidth='0.5', color='red')\n",
    "plt.title('MADDPG - Continuous Control')\n",
    "plt.ylabel('Score')\n",
    "plt.xlabel('Episode #')\n",
    "plt.show()"
   ]
  },
  {
   "cell_type": "code",
   "execution_count": 6,
   "metadata": {},
   "outputs": [
    {
     "name": "stderr",
     "output_type": "stream",
     "text": [
      "c:\\users\\abdullah\\anaconda3\\envs\\deeprl\\lib\\site-packages\\torch\\nn\\functional.py:1339: UserWarning: nn.functional.tanh is deprecated. Use torch.tanh instead.\n",
      "  warnings.warn(\"nn.functional.tanh is deprecated. Use torch.tanh instead.\")\n"
     ]
    },
    {
     "name": "stdout",
     "output_type": "stream",
     "text": [
      "Score (max over agents) from episode 1: 2.600000038743019\n",
      "Score (max over agents) from episode 2: 2.600000038743019\n",
      "Score (max over agents) from episode 3: 2.7000000402331352\n",
      "Score (max over agents) from episode 4: 2.600000038743019\n",
      "Score (max over agents) from episode 5: 0.9000000134110451\n",
      "Score (max over agents) from episode 6: 2.600000038743019\n",
      "Score (max over agents) from episode 7: 0.20000000298023224\n",
      "Score (max over agents) from episode 8: 2.600000038743019\n",
      "Score (max over agents) from episode 9: 2.600000038743019\n"
     ]
    }
   ],
   "source": [
    "# Test performance \n",
    "agent1.actor_local.load_state_dict(torch.load('MADDPG/MADDPG_SOLUTION_1_checkpoint_actor1.pth',map_location=torch.device('cpu')))\n",
    "agent2.actor_local.load_state_dict(torch.load('MADDPG/MADDPG_SOLUTION_1_checkpoint_actor2.pth',map_location=torch.device('cpu')))\n",
    "agent1.critic_local.load_state_dict(torch.load('MADDPG/MADDPG_SOLUTION_1_checkpoint_critic1.pth',map_location=torch.device('cpu')))\n",
    "agent2.critic_local.load_state_dict(torch.load('MADDPG/MADDPG_SOLUTION_1_checkpoint_critic2.pth',map_location=torch.device('cpu')))\n",
    "\n",
    "for i in range(1, 10):                                      # play game for 5 episodes\n",
    "    env_info = env.reset(train_mode=False)[brain_name]     # reset the environment    \n",
    "    states = env_info.vector_observations                  # get the current state (for each agent)\n",
    "    scores = np.zeros(num_agents)                          # initialize the score (for each agent)\n",
    "    agent1.reset()\n",
    "    agent2.reset()\n",
    "    while True:\n",
    "        actions1 = agent1.act(states[0], add_noise=False)                 # select an action\n",
    "        actions2 = agent2.act(states[1], add_noise=False)                 # select an action\n",
    "        actions = np.array([actions1[0], actions2[0]])\n",
    "        \n",
    "        env_info = env.step(actions)[brain_name]           # send all actions to tne environment\n",
    "        next_states = env_info.vector_observations         # get next state (for each agent)\n",
    "        rewards = env_info.rewards                         # get reward (for each agent)\n",
    "        dones = env_info.local_done                        # see if episode finished\n",
    "        scores += env_info.rewards                         # update the score (for each agent)\n",
    "        states = next_states                               # roll over states to next time step\n",
    "        if np.any(dones):                                  # exit loop if episode finished\n",
    "            break\n",
    "    print('Score (max over agents) from episode {}: {}'.format(i, np.max(scores)))"
   ]
  },
  {
   "cell_type": "code",
   "execution_count": 7,
   "metadata": {},
   "outputs": [],
   "source": [
    "env.close()"
   ]
  },
  {
   "cell_type": "code",
   "execution_count": null,
   "metadata": {},
   "outputs": [],
   "source": []
  }
 ],
 "metadata": {
  "kernelspec": {
   "display_name": "Python 3",
   "language": "python",
   "name": "python3"
  },
  "language_info": {
   "codemirror_mode": {
    "name": "ipython",
    "version": 3
   },
   "file_extension": ".py",
   "mimetype": "text/x-python",
   "name": "python",
   "nbconvert_exporter": "python",
   "pygments_lexer": "ipython3",
   "version": "3.6.9"
  }
 },
 "nbformat": 4,
 "nbformat_minor": 2
}
