{
 "cells": [
  {
   "cell_type": "markdown",
   "metadata": {},
   "source": [
    "# Continuous Control\n",
    "\n",
    "---\n",
    "\n",
    "You are welcome to use this coding environment to train your agent for the project.  Follow the instructions below to get started!\n",
    "\n",
    "### 1. Start the Environment\n",
    "\n",
    "Run the next code cell to install a few packages.  This line will take a few minutes to run!"
   ]
  },
  {
   "cell_type": "code",
   "execution_count": 1,
   "metadata": {},
   "outputs": [],
   "source": [
    "# if in workspace\n",
    "!pip -q install ./python\n",
    "import workspace_utils\n",
    "from workspace_utils import active_session\n",
    "\n",
    "import numpy as np\n",
    "import torch\n",
    "from collections import deque\n",
    "import matplotlib.pyplot as plt\n",
    "%matplotlib inline"
   ]
  },
  {
   "cell_type": "markdown",
   "metadata": {},
   "source": [
    "The environments corresponding to both versions of the environment are already saved in the Workspace and can be accessed at the file paths provided below.  \n",
    "\n",
    "Please select one of the two options below for loading the environment."
   ]
  },
  {
   "cell_type": "code",
   "execution_count": 2,
   "metadata": {},
   "outputs": [
    {
     "name": "stderr",
     "output_type": "stream",
     "text": [
      "INFO:unityagents:\n",
      "'Academy' started successfully!\n",
      "Unity Academy name: Academy\n",
      "        Number of Brains: 1\n",
      "        Number of External Brains : 1\n",
      "        Lesson number : 0\n",
      "        Reset Parameters :\n",
      "\t\tgoal_speed -> 1.0\n",
      "\t\tgoal_size -> 5.0\n",
      "Unity brain name: ReacherBrain\n",
      "        Number of Visual Observations (per agent): 0\n",
      "        Vector Observation space type: continuous\n",
      "        Vector Observation space size (per agent): 33\n",
      "        Number of stacked Vector Observation: 1\n",
      "        Vector Action space type: continuous\n",
      "        Vector Action space size (per agent): 4\n",
      "        Vector Action descriptions: , , , \n"
     ]
    }
   ],
   "source": [
    "from unityagents import UnityEnvironment\n",
    "import numpy as np\n",
    "\n",
    "# For workspace\n",
    "# select this option to load version 1 (with a single agent) of the environment\n",
    "#env = UnityEnvironment(file_name='/data/Reacher_One_Linux_NoVis/Reacher_One_Linux_NoVis.x86_64')\n",
    "\n",
    "# select this option to load version 2 (with 20 agents) of the environment\n",
    "#env = UnityEnvironment(file_name='/data/Reacher_Linux_NoVis/Reacher.x86_64')\n",
    "\n",
    "# For local\n",
    "env = UnityEnvironment(file_name='Reacher_Windows_x86_64_20Agents/Reacher.exe')"
   ]
  },
  {
   "cell_type": "markdown",
   "metadata": {},
   "source": [
    "Environments contain **_brains_** which are responsible for deciding the actions of their associated agents. Here we check for the first brain available, and set it as the default brain we will be controlling from Python."
   ]
  },
  {
   "cell_type": "code",
   "execution_count": 3,
   "metadata": {},
   "outputs": [],
   "source": [
    "# get the default brain\n",
    "brain_name = env.brain_names[0]\n",
    "brain = env.brains[brain_name]"
   ]
  },
  {
   "cell_type": "markdown",
   "metadata": {},
   "source": [
    "### 2. Examine the State and Action Spaces\n",
    "\n",
    "Run the code cell below to print some information about the environment."
   ]
  },
  {
   "cell_type": "code",
   "execution_count": 4,
   "metadata": {},
   "outputs": [
    {
     "name": "stdout",
     "output_type": "stream",
     "text": [
      "Number of agents: 20\n",
      "Size of each action: 4\n",
      "There are 20 agents. Each observes a state with length: 33\n",
      "The state for the first agent looks like: [ 0.00000000e+00 -4.00000000e+00  0.00000000e+00  1.00000000e+00\n",
      " -0.00000000e+00 -0.00000000e+00 -4.37113883e-08  0.00000000e+00\n",
      "  0.00000000e+00  0.00000000e+00  0.00000000e+00  0.00000000e+00\n",
      "  0.00000000e+00  0.00000000e+00 -1.00000000e+01  0.00000000e+00\n",
      "  1.00000000e+00 -0.00000000e+00 -0.00000000e+00 -4.37113883e-08\n",
      "  0.00000000e+00  0.00000000e+00  0.00000000e+00  0.00000000e+00\n",
      "  0.00000000e+00  0.00000000e+00  5.75471878e+00 -1.00000000e+00\n",
      "  5.55726624e+00  0.00000000e+00  1.00000000e+00  0.00000000e+00\n",
      " -1.68164849e-01]\n"
     ]
    }
   ],
   "source": [
    "# reset the environment\n",
    "env_info = env.reset(train_mode=True)[brain_name]\n",
    "\n",
    "# number of agents\n",
    "num_agents = len(env_info.agents)\n",
    "print('Number of agents:', num_agents)\n",
    "\n",
    "# size of each action\n",
    "action_size = brain.vector_action_space_size\n",
    "print('Size of each action:', action_size)\n",
    "\n",
    "# examine the state space \n",
    "states = env_info.vector_observations\n",
    "state_size = states.shape[1]\n",
    "print('There are {} agents. Each observes a state with length: {}'.format(states.shape[0], state_size))\n",
    "print('The state for the first agent looks like:', states[0])"
   ]
  },
  {
   "cell_type": "markdown",
   "metadata": {},
   "source": [
    "### 3. Take Random Actions in the Environment\n",
    "\n",
    "In the next code cell, you will learn how to use the Python API to control the agent and receive feedback from the environment.\n",
    "\n",
    "Note that **in this coding environment, you will not be able to watch the agents while they are training**, and you should set `train_mode=True` to restart the environment."
   ]
  },
  {
   "cell_type": "code",
   "execution_count": 5,
   "metadata": {},
   "outputs": [
    {
     "name": "stdout",
     "output_type": "stream",
     "text": [
      "Total score (averaged over agents) this episode: 0.14849999668076636\n"
     ]
    }
   ],
   "source": [
    "env_info = env.reset(train_mode=True)[brain_name]      # reset the environment    \n",
    "states = env_info.vector_observations                  # get the current state (for each agent)\n",
    "scores = np.zeros(num_agents)                          # initialize the score (for each agent)\n",
    "while True:\n",
    "    actions = np.random.randn(num_agents, action_size) # select an action (for each agent)\n",
    "    actions = np.clip(actions, -1, 1)                  # all actions between -1 and 1\n",
    "    env_info = env.step(actions)[brain_name]           # send all actions to tne environment\n",
    "    next_states = env_info.vector_observations         # get next state (for each agent)\n",
    "    rewards = env_info.rewards                         # get reward (for each agent)\n",
    "    dones = env_info.local_done                        # see if episode finished\n",
    "    scores += env_info.rewards                         # update the score (for each agent)\n",
    "    states = next_states                               # roll over states to next time step\n",
    "    if np.any(dones):                                  # exit loop if episode finished\n",
    "        break\n",
    "print('Total score (averaged over agents) this episode: {}'.format(np.mean(scores)))"
   ]
  },
  {
   "cell_type": "markdown",
   "metadata": {},
   "source": [
    "When finished, you can close the environment."
   ]
  },
  {
   "cell_type": "code",
   "execution_count": null,
   "metadata": {},
   "outputs": [],
   "source": [
    "env.close()"
   ]
  },
  {
   "cell_type": "markdown",
   "metadata": {},
   "source": [
    "### 4. It's Your Turn!\n",
    "\n",
    "Now it's your turn to train your own agent to solve the environment!  A few **important notes**:\n",
    "- When training the environment, set `train_mode=True`, so that the line for resetting the environment looks like the following:\n",
    "```python\n",
    "env_info = env.reset(train_mode=True)[brain_name]\n",
    "```\n",
    "- To structure your work, you're welcome to work directly in this Jupyter notebook, or you might like to start over with a new file!  You can see the list of files in the workspace by clicking on **_Jupyter_** in the top left corner of the notebook.\n",
    "- In this coding environment, you will not be able to watch the agents while they are training.  However, **_after training the agents_**, you can download the saved model weights to watch the agents on your own machine! "
   ]
  },
  {
   "cell_type": "code",
   "execution_count": 6,
   "metadata": {},
   "outputs": [],
   "source": [
    "from DDPG.ddpg_agent_multi import DDPG_Multi_Agent\n",
    "agent2 = DDPG_Multi_Agent(state_size=state_size, action_size=action_size, n_agents=20,random_seed=1)"
   ]
  },
  {
   "cell_type": "code",
   "execution_count": 7,
   "metadata": {},
   "outputs": [],
   "source": [
    "def train(algorithm, path , solution, agent, n_episodes, max_t): #\n",
    "    \"\"\"\n",
    "    Parameters:\n",
    "        n_episodes (int): maximum number of training episodes\n",
    "        max_t (int): maximum number of timesteps per episode\n",
    "    Other function parameters:\n",
    "        algorithm (str): name of the type of DQN used \n",
    "        path (str): location where to save the trained parameters of the network\n",
    "        solution (str): it will complement the name of the file that holds the trained parameters so we can have\n",
    "        solution1, solution2....solutionN\n",
    "    \"\"\"\n",
    "    \n",
    "    print('Initializing ' + algorithm + ' train...')\n",
    "    \n",
    "    scores = []                        # list containing scores from each episode\n",
    "    average_scores = []                # list containing the average scores every 100 episodes\n",
    "    max_score = 0\n",
    "    enviroment_solved = 0\n",
    "    scores_window = deque(maxlen=100)  # last 100 scores\n",
    "    \n",
    "    for i_episode in range(1, n_episodes+1):\n",
    "        env_info = env.reset(train_mode=True)[brain_name]   # reset the environment\n",
    "        states = env_info.vector_observations               # get the current state\n",
    "        episode_scores = np.zeros(num_agents)               # scores for each agent \n",
    "        \n",
    "        for t in range(max_t):\n",
    "            \n",
    "            actions = agent.act(states)                 # select an action\n",
    "            env_info = env.step(actions)[brain_name]   # send the action to the environment\n",
    "            next_states = env_info.vector_observations   # get the next state\n",
    "            rewards = env_info.rewards                   # get the reward\n",
    "            dones = env_info.local_done                    # see if episode has finished\n",
    "            agent.step(states, actions, rewards, next_states, dones , t)\n",
    "            states = next_states\n",
    "            episode_scores += np.array(rewards)\n",
    "            if np.any(dones):\n",
    "                break \n",
    "                \n",
    "        score = np.mean(episode_scores)         # Summary of scores for this episode        \n",
    "        scores_window.append(score)             # save most recent score\n",
    "        scores.append(score)                    # save most recent score\n",
    "        \n",
    "        print('\\rEpisode {}\\t'.format(i_episode) + algorithm +' Average Score: {:.2f}'.format(np.mean(scores_window)), end=\"\")\n",
    "        average_scores.append(np.mean(scores_window))              # save the average score\n",
    "        if i_episode % 100 == 0:\n",
    "            print('\\rEpisode {}\\t'.format(i_episode) + algorithm +' Average Score: {:.2f}'.format(np.mean(scores_window)))\n",
    "        if np.mean(scores_window)>=30.0 and enviroment_solved == 0:\n",
    "            print('\\nEnvironment solved in {:d} episodes!\\t'.format(i_episode) + algorithm +' Average Score: {:.2f}'.format(np.mean(scores_window)))\n",
    "            enviroment_solved = 1\n",
    "        if i_episode % 100 == 0 and np.mean(scores_window)>= max_score:   \n",
    "            torch.save(agent.actor_local.state_dict(), path + algorithm + '_' + solution + '_checkpoint_actor.pth')\n",
    "            torch.save(agent.critic_local.state_dict(), path + algorithm + '_' + solution + '_checkpoint_critic.pth')\n",
    "            max_score = np.mean(scores_window)\n",
    "        if i_episode==n_episodes: \n",
    "            break\n",
    "               \n",
    "    # Saving the scores   \n",
    "    with open(path + algorithm + '_' + solution +'_scores.txt','w') as file:\n",
    "        for score, average in zip(scores, average_scores):\n",
    "            file.write(('%2f\\t, %2f\\n') % (score, average))\n",
    "    file.close()\n",
    "    \n",
    "    print(algorithm +' done.!')\n",
    "    return scores, average_scores"
   ]
  },
  {
   "cell_type": "code",
   "execution_count": 8,
   "metadata": {},
   "outputs": [
    {
     "name": "stdout",
     "output_type": "stream",
     "text": [
      "Initializing DDPG_multi train...\n",
      "Episode 100\tDDPG_multi Average Score: 5.53\n",
      "Episode 200\tDDPG_multi Average Score: 21.71\n",
      "Episode 269\tDDPG_multi Average Score: 30.01\n",
      "Environment solved in 269 episodes!\tDDPG_multi Average Score: 30.01\n",
      "Episode 300\tDDPG_multi Average Score: 31.66\n",
      "Episode 400\tDDPG_multi Average Score: 32.69\n",
      "DDPG_multi done.!\n"
     ]
    }
   ],
   "source": [
    "N = 400     # number of episodes\n",
    "T = 1000  # max number of time steps\n",
    "agent = agent2 \n",
    "algorithm = 'DDPG_multi'\n",
    "solution = 'solution2_MultiAgent'\n",
    "path = 'DDPG/' # where to save the scores\n",
    "with active_session():\n",
    "    ddpg_scores, ddpg_average_scores = train(algorithm, path, solution, agent, N, T)"
   ]
  },
  {
   "cell_type": "code",
   "execution_count": 4,
   "metadata": {},
   "outputs": [],
   "source": [
    "# This functions get the scores\n",
    "def get_scores(algorithm, path, solution):\n",
    "    score = []\n",
    "    average = []\n",
    "    with open(path + algorithm + '_' + solution +'_scores.txt') as file:\n",
    "        for line in file:\n",
    "            score.append(float(line.split()[0]))\n",
    "            average.append(float(line.split()[2]))\n",
    "    file.close()\n",
    "    return score, average"
   ]
  },
  {
   "cell_type": "code",
   "execution_count": 5,
   "metadata": {},
   "outputs": [],
   "source": [
    "# To get all the scores from a .txt file. 'no need to train again if notebook is reloaded'\n",
    "algorithm = 'DDPG_multi'\n",
    "path = 'DDPG/' # where to read the scores\n",
    "solution = 'solution2_MultiAgent'\n",
    "ddpg_scores, ddpg_average_scores = get_scores(algorithm, path, solution)"
   ]
  },
  {
   "cell_type": "code",
   "execution_count": 14,
   "metadata": {},
   "outputs": [
    {
     "data": {
      "image/png": "[encoded data removed]",
      "text/plain": [
       "<matplotlib.figure.Figure at 0x7fd82e0e0470>"
      ]
     },
     "metadata": {
      "needs_background": "light"
     },
     "output_type": "display_data"
    }
   ],
   "source": [
    "# plot the scores\n",
    "fig = plt.figure(figsize=(8,10))\n",
    "font = {'size'   : 14}\n",
    "plt.rc('font', **font)\n",
    "plt.rc('legend', fontsize=12)    # legend fontsize\n",
    "plt.rc('xtick', labelsize=12) \n",
    "plt.rc('ytick', labelsize=12) \n",
    "ax1 = fig.add_subplot(211)\n",
    "plt.plot(np.arange(len(ddpg_scores)), ddpg_scores, linewidth=3)\n",
    "plt.plot(np.arange(len(ddpg_average_scores)), ddpg_average_scores, linewidth=3)\n",
    "ax1.legend(['Score', 'Moving Average Score'])  #,loc=4\n",
    "ax1.grid(linestyle='-', linewidth='0.5', color='red')\n",
    "plt.title('DDPG - Continuous Control')\n",
    "plt.ylabel('Score')\n",
    "plt.xlabel('Episode #')\n",
    "\n",
    "plt.show()"
   ]
  },
  {
   "cell_type": "code",
   "execution_count": 7,
   "metadata": {},
   "outputs": [
    {
     "name": "stderr",
     "output_type": "stream",
     "text": [
      "c:\\users\\abdullah\\anaconda3\\envs\\deeprl\\lib\\site-packages\\torch\\nn\\functional.py:1339: UserWarning: nn.functional.tanh is deprecated. Use torch.tanh instead.\n",
      "  warnings.warn(\"nn.functional.tanh is deprecated. Use torch.tanh instead.\")\n"
     ]
    },
    {
     "name": "stdout",
     "output_type": "stream",
     "text": [
      "Score: 34.09199923798442\n"
     ]
    }
   ],
   "source": [
    "# load the weights from file FORM GPU TO CPU\n",
    "agent2.actor_local.load_state_dict(torch.load('DDPG/DDPG_multi_solution2_MultiAgent_checkpoint_actor.pth',map_location=torch.device('cpu')))\n",
    "agent2.critic_local.load_state_dict(torch.load('DDPG/DDPG_multi_solution2_MultiAgent_checkpoint_critic.pth',map_location=torch.device('cpu')))\n",
    "\n",
    "env_info = env.reset(train_mode=False)[brain_name] # reset the environment\n",
    "state = env_info.vector_observations               # get the current state\n",
    "score = np.zeros(num_agents)                                          # initialize the score\n",
    "        \n",
    "while True:\n",
    "    action = agent2.act(state)                     # select an action\n",
    "    env_info = env.step(action)[brain_name]   # send the action to the environment\n",
    "    next_state = env_info.vector_observations   # get the next state\n",
    "    reward = env_info.rewards                   # get the reward\n",
    "    done = env_info.local_done                  # see if episode has finished\n",
    "    score += np.array(reward)                               # update the score\n",
    "    state = next_state                             # roll over the state to next time step\n",
    "    if np.any(done):                                       # exit loop if episode finished\n",
    "        break\n",
    "    \n",
    "print(\"Score: {}\".format(np.mean(score)))"
   ]
  },
  {
   "cell_type": "code",
   "execution_count": null,
   "metadata": {},
   "outputs": [],
   "source": []
  }
 ],
 "metadata": {
  "kernelspec": {
   "display_name": "Python 3",
   "language": "python",
   "name": "python3"
  },
  "language_info": {
   "codemirror_mode": {
    "name": "ipython",
    "version": 3
   },
   "file_extension": ".py",
   "mimetype": "text/x-python",
   "name": "python",
   "nbconvert_exporter": "python",
   "pygments_lexer": "ipython3",
   "version": "3.6.9"
  }
 },
 "nbformat": 4,
 "nbformat_minor": 2
}
